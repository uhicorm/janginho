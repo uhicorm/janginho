{
 "cells": [
  {
   "cell_type": "code",
   "execution_count": 1,
   "id": "ada306bc",
   "metadata": {},
   "outputs": [],
   "source": [
    "lovely_loveseat_description = \"Lovely Loveseat. Tufted polyester blend on wood. 32 inches high x 40 inches wide x 30 inches deep. Red or white.\""
   ]
  },
  {
   "cell_type": "code",
   "execution_count": 5,
   "id": "e1ab0f3c",
   "metadata": {},
   "outputs": [],
   "source": [
    "lovely_loveseat_price = 254.00"
   ]
  },
  {
   "cell_type": "code",
   "execution_count": 6,
   "id": "2c36ceb1",
   "metadata": {},
   "outputs": [],
   "source": [
    "stylish_settee_description = \"Stylish Settee. Faux leather on birch. 29.50 inches high x 54.75 inches wide x 28 inches deep. Black.\""
   ]
  },
  {
   "cell_type": "code",
   "execution_count": 7,
   "id": "4dea5e7a",
   "metadata": {},
   "outputs": [],
   "source": [
    "stylish_settee_price = 180.50"
   ]
  },
  {
   "cell_type": "code",
   "execution_count": 8,
   "id": "fa5940ef",
   "metadata": {},
   "outputs": [],
   "source": [
    "luxurious_lamp_description = \"Luxurious Lamp. Glass and iron. 36 inches tall. Brown with cream shade.\""
   ]
  },
  {
   "cell_type": "code",
   "execution_count": 9,
   "id": "72acf64b",
   "metadata": {},
   "outputs": [],
   "source": [
    "luxurious_lamp_price = 52.15"
   ]
  },
  {
   "cell_type": "code",
   "execution_count": 10,
   "id": "18ecd66e",
   "metadata": {},
   "outputs": [],
   "source": [
    "sales_tax = 0.088"
   ]
  },
  {
   "cell_type": "code",
   "execution_count": 11,
   "id": "4f57f11d",
   "metadata": {},
   "outputs": [],
   "source": [
    "customer_one_total = 0"
   ]
  },
  {
   "cell_type": "code",
   "execution_count": 12,
   "id": "b5ca98d2",
   "metadata": {},
   "outputs": [],
   "source": [
    "customer_one_itemization = \"\""
   ]
  },
  {
   "cell_type": "code",
   "execution_count": 13,
   "id": "82d848f8",
   "metadata": {},
   "outputs": [],
   "source": [
    "customer_one_total += lovely_loveseat_price"
   ]
  },
  {
   "cell_type": "code",
   "execution_count": 14,
   "id": "66a2c440",
   "metadata": {},
   "outputs": [],
   "source": [
    "customer_one_itemization += lovely_loveseat_description"
   ]
  },
  {
   "cell_type": "code",
   "execution_count": 15,
   "id": "a0002133",
   "metadata": {},
   "outputs": [],
   "source": [
    "customer_one_total += luxurious_lamp_price"
   ]
  },
  {
   "cell_type": "code",
   "execution_count": 16,
   "id": "57ba20d9",
   "metadata": {},
   "outputs": [],
   "source": [
    "customer_one_itemization += luxurious_lamp_description"
   ]
  },
  {
   "cell_type": "code",
   "execution_count": 17,
   "id": "6cb6eb22",
   "metadata": {},
   "outputs": [],
   "source": [
    "customer_one_tax = customer_one_total * sales_tax"
   ]
  },
  {
   "cell_type": "code",
   "execution_count": 18,
   "id": "292a8962",
   "metadata": {},
   "outputs": [],
   "source": [
    "customer_one_total += customer_one_tax"
   ]
  },
  {
   "cell_type": "code",
   "execution_count": 19,
   "id": "58cfa5f4",
   "metadata": {},
   "outputs": [
    {
     "name": "stdout",
     "output_type": "stream",
     "text": [
      "Customer One Items:\n",
      "Lovely Loveseat. Tufted polyester blend on wood. 32 inches high x 40 inches wide x 30 inches deep. Red or white.Luxurious Lamp. Glass and iron. 36 inches tall. Brown with cream shade.\n",
      "Customer One Total:\n",
      "333.09119999999996\n"
     ]
    }
   ],
   "source": [
    "print(\"Customer One Items:\")\n",
    "print(customer_one_itemization)\n",
    "print(\"Customer One Total:\")\n",
    "print(customer_one_total)"
   ]
  }
 ],
 "metadata": {
  "kernelspec": {
   "display_name": "Python 3 (ipykernel)",
   "language": "python",
   "name": "python3"
  },
  "language_info": {
   "codemirror_mode": {
    "name": "ipython",
    "version": 3
   },
   "file_extension": ".py",
   "mimetype": "text/x-python",
   "name": "python",
   "nbconvert_exporter": "python",
   "pygments_lexer": "ipython3",
   "version": "3.9.12"
  }
 },
 "nbformat": 4,
 "nbformat_minor": 5
}
