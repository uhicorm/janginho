{
 "cells": [
  {
   "cell_type": "code",
   "execution_count": 1,
   "id": "fbe7feea",
   "metadata": {},
   "outputs": [],
   "source": [
    "subjects = [\"physics\", \"calculus\", \"poetry\", \"history\"]"
   ]
  },
  {
   "cell_type": "code",
   "execution_count": 2,
   "id": "0291fd09",
   "metadata": {},
   "outputs": [],
   "source": [
    "grades = [98, 97, 85, 88]"
   ]
  },
  {
   "cell_type": "code",
   "execution_count": 3,
   "id": "76822108",
   "metadata": {},
   "outputs": [],
   "source": [
    "gradebook = [[\"physics\", 98], [\"calculus\", 97], [\"poetry\", 85], [\"history\", 88]]"
   ]
  },
  {
   "cell_type": "code",
   "execution_count": 4,
   "id": "2f99526d",
   "metadata": {},
   "outputs": [
    {
     "name": "stdout",
     "output_type": "stream",
     "text": [
      "[['physics', 98], ['calculus', 97], ['poetry', 85], ['history', 88]]\n"
     ]
    }
   ],
   "source": [
    "print(gradebook)"
   ]
  },
  {
   "cell_type": "code",
   "execution_count": 5,
   "id": "123a2753",
   "metadata": {},
   "outputs": [],
   "source": [
    "gradebook.append([\"computer science\", 100])\n",
    "gradebook.append([\"visual arts\", 93])"
   ]
  },
  {
   "cell_type": "code",
   "execution_count": 6,
   "id": "69d48234",
   "metadata": {},
   "outputs": [
    {
     "name": "stdout",
     "output_type": "stream",
     "text": [
      "[['physics', 98], ['calculus', 97], ['poetry', 85], ['history', 88], ['computer science', 100], ['visual arts', 93]]\n"
     ]
    }
   ],
   "source": [
    "print(gradebook)"
   ]
  },
  {
   "cell_type": "code",
   "execution_count": 7,
   "id": "9dfd7270",
   "metadata": {},
   "outputs": [],
   "source": [
    "gradebook[-1][1] += 5"
   ]
  },
  {
   "cell_type": "code",
   "execution_count": 8,
   "id": "281dc9be",
   "metadata": {},
   "outputs": [],
   "source": [
    "gradebook[2].remove(85)"
   ]
  },
  {
   "cell_type": "code",
   "execution_count": 9,
   "id": "311d6587",
   "metadata": {},
   "outputs": [],
   "source": [
    "gradebook[2].append(\"Pass\")"
   ]
  },
  {
   "cell_type": "code",
   "execution_count": 10,
   "id": "37e3fa64",
   "metadata": {},
   "outputs": [],
   "source": [
    "last_semester_gradebook = [[\"politics\", 80], [\"latin\", 96], [\"dance\", 97], [\"architecture\", 65]]"
   ]
  },
  {
   "cell_type": "code",
   "execution_count": 11,
   "id": "9f397288",
   "metadata": {},
   "outputs": [],
   "source": [
    "full_gradebook = last_semester_gradebook + gradebook"
   ]
  },
  {
   "cell_type": "code",
   "execution_count": 12,
   "id": "e0f60c0b",
   "metadata": {},
   "outputs": [
    {
     "name": "stdout",
     "output_type": "stream",
     "text": [
      "[['politics', 80], ['latin', 96], ['dance', 97], ['architecture', 65], ['physics', 98], ['calculus', 97], ['poetry', 'Pass'], ['history', 88], ['computer science', 100], ['visual arts', 98]]\n"
     ]
    }
   ],
   "source": [
    "print(full_gradebook)"
   ]
  }
 ],
 "metadata": {
  "kernelspec": {
   "display_name": "Python 3 (ipykernel)",
   "language": "python",
   "name": "python3"
  },
  "language_info": {
   "codemirror_mode": {
    "name": "ipython",
    "version": 3
   },
   "file_extension": ".py",
   "mimetype": "text/x-python",
   "name": "python",
   "nbconvert_exporter": "python",
   "pygments_lexer": "ipython3",
   "version": "3.9.12"
  }
 },
 "nbformat": 4,
 "nbformat_minor": 5
}
