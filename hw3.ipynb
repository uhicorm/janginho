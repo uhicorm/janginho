{
 "cells": [
  {
   "cell_type": "code",
   "execution_count": 67,
   "id": "4860686a",
   "metadata": {},
   "outputs": [],
   "source": [
    "hairstyles = [\"bouffant\", \"pixie\", \"dreadlocks\", \"crew\", \"bowl\", \"bob\", \"mohawk\", \"flattop\"]\n",
    "prices = [30, 25, 40, 20, 20, 35, 50, 35]\n",
    "last_week = [2, 3, 5, 8, 4, 4, 6, 2]\n",
    "total_price = 0"
   ]
  },
  {
   "cell_type": "code",
   "execution_count": 68,
   "id": "8f28b943",
   "metadata": {},
   "outputs": [],
   "source": [
    "for i in prices:\n",
    "    total_price += i"
   ]
  },
  {
   "cell_type": "code",
   "execution_count": 69,
   "id": "2998a39a",
   "metadata": {},
   "outputs": [
    {
     "name": "stdout",
     "output_type": "stream",
     "text": [
      "Average price is  31.875\n"
     ]
    }
   ],
   "source": [
    "average_price = total_price / len(prices)\n",
    "print(\"Average price is \", average_price)"
   ]
  },
  {
   "cell_type": "code",
   "execution_count": 70,
   "id": "442b3fb1",
   "metadata": {
    "scrolled": true
   },
   "outputs": [
    {
     "name": "stdout",
     "output_type": "stream",
     "text": [
      "[25, 20, 35, 15, 15, 30, 45, 30]\n"
     ]
    }
   ],
   "source": [
    "new_prices = []\n",
    "for i in range(len(prices)):\n",
    "    new_prices.append(prices[i] - 5)\n",
    "print(new_prices)"
   ]
  },
  {
   "cell_type": "code",
   "execution_count": 71,
   "id": "1b650578",
   "metadata": {},
   "outputs": [],
   "source": [
    "total_revenue = 0"
   ]
  },
  {
   "cell_type": "code",
   "execution_count": 72,
   "id": "d357f580",
   "metadata": {
    "scrolled": true
   },
   "outputs": [
    {
     "name": "stdout",
     "output_type": "stream",
     "text": [
      "1085\n",
      "Average daily revenue is  155.0\n"
     ]
    }
   ],
   "source": [
    "for i in range(len(hairstyles)):\n",
    "    total_revenue += last_week[i] * prices[i]\n",
    "print(total_revenue)\n",
    "print(\"Average daily revenue is \", total_revenue / 7)"
   ]
  },
  {
   "cell_type": "code",
   "execution_count": 73,
   "id": "29bb605b",
   "metadata": {},
   "outputs": [
    {
     "name": "stdout",
     "output_type": "stream",
     "text": [
      "['bouffant', 'pixie', 'crew', 'bowl']\n"
     ]
    }
   ],
   "source": [
    "cuts_under_30 = [hairstyles[i] for i in range(len(new_prices)) if new_prices[i] < 30]\n",
    "print(cuts_under_30)"
   ]
  }
 ],
 "metadata": {
  "kernelspec": {
   "display_name": "Python 3 (ipykernel)",
   "language": "python",
   "name": "python3"
  },
  "language_info": {
   "codemirror_mode": {
    "name": "ipython",
    "version": 3
   },
   "file_extension": ".py",
   "mimetype": "text/x-python",
   "name": "python",
   "nbconvert_exporter": "python",
   "pygments_lexer": "ipython3",
   "version": "3.9.12"
  }
 },
 "nbformat": 4,
 "nbformat_minor": 5
}
